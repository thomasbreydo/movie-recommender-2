{
 "cells": [
  {
   "cell_type": "code",
   "execution_count": null,
   "metadata": {},
   "outputs": [],
   "source": [
    "USER = 'thomas'"
   ]
  },
  {
   "cell_type": "markdown",
   "metadata": {},
   "source": [
    "# Load dataset, import convenience functions"
   ]
  },
  {
   "cell_type": "code",
   "execution_count": null,
   "metadata": {},
   "outputs": [],
   "source": [
    "from _rate_movies_helper import dataset\n",
    "import pandas as pd\n",
    "import seaborn as sns\n",
    "import matplotlib.pyplot as plt"
   ]
  },
  {
   "cell_type": "code",
   "execution_count": null,
   "metadata": {},
   "outputs": [],
   "source": [
    "ratings = dataset.load('ratings.csv').drop('timestamp', axis=1)\n",
    "ratings.head()"
   ]
  },
  {
   "cell_type": "markdown",
   "metadata": {},
   "source": [
    "# Figure out which movies mostly likely have been seen\n",
    "\n",
    "In order to minimize the amount of the user spends manually rating movies we will only ask about frequently reviewed movies (that are therefore likely to have been seen by the user)."
   ]
  },
  {
   "cell_type": "code",
   "execution_count": null,
   "metadata": {},
   "outputs": [],
   "source": [
    "def get_movieId_vs_n_ratings_and_avg_rating(ratings_df):\n",
    "    ratings_df = ratings_df.copy()\n",
    "    ratings_df['n_ratings'] = 1\n",
    "    ratings_df['avg_rating'] = ratings_df['rating']\n",
    "    return ratings_df[['n_ratings', 'movieId']].groupby('movieId').count().merge(\n",
    "        ratings_df[['avg_rating', 'movieId']].groupby('movieId').mean(), on='movieId')"
   ]
  },
  {
   "cell_type": "code",
   "execution_count": null,
   "metadata": {},
   "outputs": [],
   "source": [
    "def restrict_ratings(ratings, low, high):\n",
    "    '''Return `ratings` with just ratings in [low, high)'''\n",
    "    return ratings[(ratings['avg_rating'] < high) & (ratings['avg_rating'] >= low)]"
   ]
  },
  {
   "cell_type": "code",
   "execution_count": null,
   "metadata": {},
   "outputs": [],
   "source": [
    "def get_most_rated(ratings_df, at_least_n_ratings=50, top_n=200, avg_rating_range=(0, 5.1)):\n",
    "    df = get_movieId_vs_n_ratings_and_avg_rating(ratings_df)\n",
    "    df = restrict_ratings(df, *avg_rating_range)\n",
    "    df = df[df['n_ratings'] >= at_least_n_ratings]\n",
    "    return df.sort_values('n_ratings', ascending=False).iloc[:top_n]"
   ]
  },
  {
   "cell_type": "code",
   "execution_count": null,
   "metadata": {},
   "outputs": [],
   "source": [
    "top200_most_rated = get_most_rated(ratings, top_n=200)\n",
    "plt.figure(dpi=170)\n",
    "ax = sns.distplot(top200_most_rated['avg_rating'])\n",
    "title = ax.set_title('Rating Distribution Among Top 200 Most-reviewed')"
   ]
  },
  {
   "cell_type": "markdown",
   "metadata": {},
   "source": [
    "# Just going off of popularity, most movies have a good rating\n",
    "\n",
    "To combat this and to make sure our user is shown at least a few \"bad\" movies that they didn't like, we will lower the threshold for certain ratings."
   ]
  },
  {
   "cell_type": "code",
   "execution_count": null,
   "metadata": {},
   "outputs": [],
   "source": [
    "rated0to1 = get_most_rated(ratings, at_least_n_ratings=5, avg_rating_range=(0, 1))\n",
    "rated1to2 = get_most_rated(ratings, at_least_n_ratings=10, avg_rating_range=(1, 2))\n",
    "rated2to3 = get_most_rated(ratings, at_least_n_ratings=35, avg_rating_range=(2, 3), top_n=48)\n",
    "rated3to4 = get_most_rated(ratings, at_least_n_ratings=100, avg_rating_range=(3, 4))\n",
    "rated4to4_5 = get_most_rated(ratings, at_least_n_ratings=70, avg_rating_range=(4, 4.5))\n",
    "rated4_5to5 = get_most_rated(ratings, at_least_n_ratings=50, avg_rating_range=(4.5, 5.1))"
   ]
  },
  {
   "cell_type": "code",
   "execution_count": null,
   "metadata": {},
   "outputs": [],
   "source": [
    "better = pd.concat([rated0to1, rated1to2, rated2to3, rated3to4, rated4to4_5, rated4_5to5])\n",
    "\n",
    "plt.figure(dpi=170)\n",
    "ax = sns.distplot(better['avg_rating'])\n",
    "title = ax.set_title(f'Rating Distribution Among Top {len(better.index)} Most-reviewed\\n'\n",
    "                    '(n_ratings cutoff differs in each rating subsection)')"
   ]
  },
  {
   "cell_type": "markdown",
   "metadata": {},
   "source": [
    "# Time to manually rate the movies\n",
    "\n",
    "I've implemented an easy-to-use interface by modifying the [pigeon](https://github.com/agermanidis/pigeon) package. Rating movies is self-explanatory, preferences are saved automatically to `./preferences/[your username]_pref.csv`. If you want to reset your progress, just delete that preference file, a black one will be created when you run the next cells."
   ]
  },
  {
   "cell_type": "code",
   "execution_count": null,
   "metadata": {},
   "outputs": [],
   "source": [
    "from _rate_movies_helper import annotate, display_movie, full_savepath"
   ]
  },
  {
   "cell_type": "code",
   "execution_count": null,
   "metadata": {},
   "outputs": [],
   "source": [
    "try:\n",
    "    already_rated = pd.read_csv(full_savepath(USER))\n",
    "except FileNotFoundError:\n",
    "    reduced = better.index\n",
    "else:\n",
    "    reduced = [movieId for movieId in better.index if movieId not in already_rated['movieId'].values]"
   ]
  },
  {
   "cell_type": "code",
   "execution_count": null,
   "metadata": {},
   "outputs": [],
   "source": [
    "annot = annotate(reduced, display_fn=display_movie, include_skip=False,\n",
    "             options=['1', '1.5', '2', '2.5', '3', '3.5', '4', '4.5', '5', '?'], user=USER)"
   ]
  }
 ],
 "metadata": {
  "kernelspec": {
   "display_name": "Python 3.8.2 64-bit",
   "language": "python",
   "name": "python38264bita8d96e36de4741ce9e672ff7c3d9f0e0"
  },
  "language_info": {
   "codemirror_mode": {
    "name": "ipython",
    "version": 3
   },
   "file_extension": ".py",
   "mimetype": "text/x-python",
   "name": "python",
   "nbconvert_exporter": "python",
   "pygments_lexer": "ipython3",
   "version": "3.8.2-final"
  }
 },
 "nbformat": 4,
 "nbformat_minor": 4
}